{
 "cells": [
  {
   "cell_type": "code",
   "execution_count": 1,
   "id": "initial_id",
   "metadata": {
    "collapsed": true,
    "ExecuteTime": {
     "end_time": "2024-03-22T13:27:49.511236024Z",
     "start_time": "2024-03-22T13:27:49.467104200Z"
    }
   },
   "outputs": [
    {
     "name": "stdout",
     "output_type": "stream",
     "text": [
      "/home/paolo/git/wild-boar-detection/notebooks\n"
     ]
    }
   ],
   "source": [
    "import pathlib\n",
    "from typing import Iterator\n",
    "\n",
    "import numpy as np\n",
    "from bing_image_downloader import downloader\n",
    "import hashlib\n",
    "import cv2\n",
    "import re\n",
    "\n",
    "print(pathlib.Path.cwd())\n",
    "\n",
    "INPUT_PATH = pathlib.Path(\"../data/bronze/new_data\").resolve().glob(\"*\")\n",
    "\n",
    "OUTPUT_DIR = pathlib.Path(\"../data/bronze/new_data/images\").resolve()\n",
    "OUTPUT_DIR.mkdir(parents=True, exist_ok=True)\n",
    "OUTPUT_DIR\n",
    "\n",
    "\n",
    "ALREADY_DOWNLOADED = list(OUTPUT_DIR.glob(\"*\"))"
   ]
  },
  {
   "cell_type": "code",
   "outputs": [
    {
     "name": "stdout",
     "output_type": "stream",
     "text": [
      "path /home/paolo/git/wild-boar-detection/data/bronze/new_data/images is not a file or a valid file\n"
     ]
    }
   ],
   "source": [
    "for path in list(INPUT_PATH):\n",
    "    \n",
    "    if not path.is_file() or path.suffix == \".part\":\n",
    "        print(f\"path {path} is not a file or a valid file\")\n",
    "        continue\n",
    "\n",
    "    output_subdir: str = re.sub(r\"\\W\", \" \", path.name.lower())\n",
    "    output_subdir = re.sub(r\"\\s+\", \" \", output_subdir).replace(' ', '_')\n",
    "    \n",
    "    OUTPUT_PATH = OUTPUT_DIR / output_subdir\n",
    "    \n",
    "    if OUTPUT_PATH.exists():\n",
    "        with OUTPUT_PATH.joinpath(\"finished\").open(\"r\") as f:\n",
    "            is_finished = f.readline()\n",
    "        \n",
    "        if is_finished == \"true\":\n",
    "            print(f\"skipping {output_subdir}, already downloaded\")\n",
    "            continue\n",
    "    OUTPUT_PATH.mkdir(parents=True, exist_ok=True)\n",
    "    \n",
    "    with OUTPUT_PATH.joinpath(\"finished\").open(\"w\") as f:\n",
    "        f.write(\"false\")\n",
    "    \n",
    "    vidcap = cv2.VideoCapture(str(path))\n",
    "    frame_counter = 1\n",
    "    while True:\n",
    "        vidcap.set(cv2.CAP_PROP_POS_MSEC, (1000*frame_counter))    # added this line \n",
    "        success, image = vidcap.read()\n",
    "\n",
    "        if not success:\n",
    "            break\n",
    "\n",
    "        output_name: str = f\"{output_subdir}_frame_{frame_counter}.jpg\"\n",
    "        \n",
    "        if (OUTPUT_PATH / output_name).exists():\n",
    "            continue\n",
    "\n",
    "        cv2.imwrite(str(OUTPUT_PATH / output_name), image)\n",
    "\n",
    "        frame_counter += 1\n",
    "\n",
    "    with OUTPUT_PATH.joinpath(\"finished\").open(\"w\") as f:\n",
    "        f.write(\"true\")"
   ],
   "metadata": {
    "collapsed": false,
    "ExecuteTime": {
     "end_time": "2024-03-22T13:32:37.131121038Z",
     "start_time": "2024-03-22T13:27:49.516715064Z"
    }
   },
   "id": "325f58c127747800",
   "execution_count": 2
  }
 ],
 "metadata": {
  "kernelspec": {
   "display_name": "Python 3",
   "language": "python",
   "name": "python3"
  },
  "language_info": {
   "codemirror_mode": {
    "name": "ipython",
    "version": 2
   },
   "file_extension": ".py",
   "mimetype": "text/x-python",
   "name": "python",
   "nbconvert_exporter": "python",
   "pygments_lexer": "ipython2",
   "version": "2.7.6"
  }
 },
 "nbformat": 4,
 "nbformat_minor": 5
}
