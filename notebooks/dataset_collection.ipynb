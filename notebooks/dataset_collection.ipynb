{
 "cells": [
  {
   "cell_type": "code",
   "execution_count": 41,
   "id": "cbdaf73640c159a7",
   "metadata": {
    "collapsed": false,
    "ExecuteTime": {
     "end_time": "2024-03-19T14:39:30.318805550Z",
     "start_time": "2024-03-19T14:39:30.308449120Z"
    }
   },
   "outputs": [
    {
     "name": "stdout",
     "output_type": "stream",
     "text": [
      "/home/paolo/git/wild-boar-detection/src/dataset_collecion\n"
     ]
    },
    {
     "data": {
      "text/plain": "PosixPath('/home/paolo/git/wild-boar-detection/data/bronze')"
     },
     "execution_count": 41,
     "metadata": {},
     "output_type": "execute_result"
    }
   ],
   "source": [
    "import pathlib\n",
    "from typing import Iterator\n",
    "\n",
    "import numpy as np\n",
    "from bing_image_downloader import downloader\n",
    "import hashlib\n",
    "import cv2\n",
    "import re\n",
    "\n",
    "print(pathlib.Path.cwd())\n",
    "\n",
    "\n",
    "OUTPUT_PATH = pathlib.Path(\"../../data/bronze\").resolve()\n",
    "OUTPUT_PATH"
   ]
  },
  {
   "cell_type": "code",
   "outputs": [],
   "source": [
    "def download_images() -> None:\n",
    "    for search_term in {\"wild boar\", \"wild boar night\", \"cinghiale\", \"cinghiale notte\"}:\n",
    "        downloader.download(search_term, limit=1_000,  output_dir=OUTPUT_PATH, adult_filter_off=True, force_replace=False, timeout=60, verbose=False)\n",
    "\n",
    "\n",
    "def delete_duplicate_images() -> None:\n",
    "    found_duplicates = False\n",
    "    while True:\n",
    "        images_hash = {}\n",
    "        for image in OUTPUT_PATH.rglob(\"*.jpg\"):\n",
    "\n",
    "            sha256 = hashlib.sha256()\n",
    "\n",
    "            try:\n",
    "                with open(image, \"rb\") as f:\n",
    "                    while True:\n",
    "                        data = f.read(65536) # arbitrary number to reduce RAM usage\n",
    "                        if not data:\n",
    "                            break\n",
    "                        sha256.update(data)\n",
    "            except Exception as e:\n",
    "                continue\n",
    "\n",
    "            hash_value = sha256.hexdigest()\n",
    "            if hash_value not in images_hash:\n",
    "                images_hash[hash_value] = image\n",
    "            else:\n",
    "                print(f\"Image already present in hash table. {image}\")\n",
    "                image.unlink(missing_ok=True)\n",
    "                found_duplicates = True\n",
    "        if not found_duplicates:\n",
    "            break\n",
    "        else:\n",
    "            found_duplicates = False"
   ],
   "metadata": {
    "collapsed": false,
    "ExecuteTime": {
     "end_time": "2024-03-19T14:39:30.332918293Z",
     "start_time": "2024-03-19T14:39:30.320324909Z"
    }
   },
   "id": "47e3e0c8295dd02f",
   "execution_count": 42
  },
  {
   "cell_type": "code",
   "outputs": [],
   "source": [
    "def extract_frames_from_videos(paths: Iterator[pathlib.Path]) -> None:\n",
    "    for path in paths:\n",
    "        print(path)\n",
    "        vidcap = cv2.VideoCapture(str(path))\n",
    "        frame_counter = 1\n",
    "        while True:\n",
    "            vidcap.set(cv2.CAP_PROP_POS_MSEC, (1000*frame_counter))    # added this line \n",
    "            success, image = vidcap.read()\n",
    "\n",
    "            if not success:\n",
    "                break\n",
    "            \n",
    "            output_dir: pathlib.Path = path.parent / \"images\"\n",
    "            output_dir.mkdir(parents=True, exist_ok=True)\n",
    "        \n",
    "            output_name = str(output_dir / f\"{path.name.lower()}_frame_{frame_counter}.jpg\")\n",
    "            cv2.imwrite(output_name, image)\n",
    "            \n",
    "            frame_counter += 1\n",
    "\n",
    "# extract_frames_from_videos(pathlib.Path(OUTPUT_PATH / \"youtube_playlist\" / \"wild_boar\").rglob(\"*.mp4\"))"
   ],
   "metadata": {
    "collapsed": false,
    "ExecuteTime": {
     "end_time": "2024-03-19T14:39:30.333932397Z",
     "start_time": "2024-03-19T14:39:30.332071233Z"
    }
   },
   "id": "f04bd524d44eed01",
   "execution_count": 43
  },
  {
   "cell_type": "markdown",
   "source": [
    "## Other animals"
   ],
   "metadata": {
    "collapsed": false
   },
   "id": "aed6ccbb20c64e26"
  },
  {
   "cell_type": "code",
   "outputs": [],
   "source": [
    "def extract_frames_from_videos(paths: Iterator[pathlib.Path], is_other_animal: bool = False) -> None:\n",
    "    animal_dir = \"wild_boar\" if not is_other_animal else \"other_animals\"\n",
    "\n",
    "    output_dir: pathlib.Path = pathlib.Path(f\"../../data/bronze/images/{animal_dir}\").resolve()\n",
    "    output_dir.mkdir(parents=True, exist_ok=True)\n",
    "    \n",
    "    print(f\"output_dir {output_dir}\")\n",
    "\n",
    "    for path in paths:\n",
    "        print(f\"path: {path}\")\n",
    "        vidcap = cv2.VideoCapture(str(path))\n",
    "        frame_counter = 1\n",
    "        while True:\n",
    "            vidcap.set(cv2.CAP_PROP_POS_MSEC, (1000*frame_counter))    # added this line \n",
    "            success, image = vidcap.read()\n",
    "\n",
    "            if not success:\n",
    "                break\n",
    "\n",
    "            output_name = re.sub(r\"\\W\", \"_\", f\"{path.name.lower()}_frame_{frame_counter}\")\n",
    "            output_name = f\"{output_name}.jpg\"            \n",
    "            print(str(output_dir / output_name))\n",
    "            \n",
    "            if (output_dir/output_name).exists():\n",
    "                continue\n",
    "            \n",
    "            cv2.imwrite(str(output_dir / output_name), image)\n",
    "\n",
    "            frame_counter += 1\n",
    "\n",
    "# extract_frames_from_videos(pathlib.Path(OUTPUT_PATH / \"youtube_playlist\" / \"other_animals\").rglob(\"*\"), is_other_animal=True)"
   ],
   "metadata": {
    "collapsed": false,
    "ExecuteTime": {
     "end_time": "2024-03-19T14:39:30.383130143Z",
     "start_time": "2024-03-19T14:39:30.339379349Z"
    }
   },
   "id": "13dc2fb63ca9da85",
   "execution_count": 44
  },
  {
   "cell_type": "code",
   "outputs": [],
   "source": [
    "import pandas as pd\n",
    "\n",
    "dataframe = pd.DataFrame(data={\"path\": [\"/\".join(x.parts[5:]) for x in list(pathlib.Path(OUTPUT_PATH).rglob(\"*.jpg\"))]})\n",
    "dataframe[\"target\"] = dataframe[\"path\"].apply(lambda x: 1 if \"wild_boar\" in x else 0)"
   ],
   "metadata": {
    "collapsed": false,
    "ExecuteTime": {
     "end_time": "2024-03-19T14:39:30.384121313Z",
     "start_time": "2024-03-19T14:39:30.383174516Z"
    }
   },
   "id": "d7e0fb835fc59246",
   "execution_count": 46
  },
  {
   "cell_type": "code",
   "outputs": [],
   "source": [
    "dataframe.to_parquet(\"/home/paolo/git/wild-boar-detection/data/bronze/data.parquet\")"
   ],
   "metadata": {
    "collapsed": false,
    "ExecuteTime": {
     "end_time": "2024-03-19T14:40:49.382751658Z",
     "start_time": "2024-03-19T14:40:49.338280035Z"
    }
   },
   "id": "f77a11b5d575da0",
   "execution_count": 49
  }
 ],
 "metadata": {
  "kernelspec": {
   "display_name": "Python 3",
   "language": "python",
   "name": "python3"
  },
  "language_info": {
   "codemirror_mode": {
    "name": "ipython",
    "version": 2
   },
   "file_extension": ".py",
   "mimetype": "text/x-python",
   "name": "python",
   "nbconvert_exporter": "python",
   "pygments_lexer": "ipython2",
   "version": "2.7.6"
  }
 },
 "nbformat": 4,
 "nbformat_minor": 5
}
