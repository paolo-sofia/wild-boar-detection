{
 "cells": [
  {
   "cell_type": "code",
   "execution_count": 14,
   "id": "initial_id",
   "metadata": {
    "collapsed": true,
    "ExecuteTime": {
     "end_time": "2024-03-21T09:53:19.351914671Z",
     "start_time": "2024-03-21T09:53:19.310017077Z"
    }
   },
   "outputs": [
    {
     "name": "stderr",
     "output_type": "stream",
     "text": [
      "Seed set to 666\n"
     ]
    }
   ],
   "source": [
    "import pathlib\n",
    "import sys\n",
    "\n",
    "import lightning\n",
    "import torch\n",
    "from dotenv import dotenv_values\n",
    "import onnxruntime\n",
    "import numpy as np\n",
    "from wild_boar_detection.utils import Hyperparameters, dataclass_from_dict\n",
    "\n",
    "sys.path.append(str(pathlib.Path.cwd()))\n",
    "torch.set_float32_matmul_precision(\"medium\")\n",
    "cfg: Hyperparameters | dict[str, int | float | str | bool] = dataclass_from_dict(Hyperparameters, dotenv_values())\n",
    "lightning.seed_everything(cfg.SEED, workers=True)\n",
    "device = torch.device(\"cuda\" if torch.cuda.is_available() else \"cpu\")\n",
    "\n",
    "EXPERIMENT_PATH = pathlib.Path(\"../data/logs/mlruns/669180362677009476\").joinpath(\"0f5b21808f684dd6b5595b01f9b197e3\").resolve() \n",
    "ARTIFACTS_PATH = EXPERIMENT_PATH / \"artifacts/model\"\n",
    "\n",
    "MODEL_PATH = ARTIFACTS_PATH / \"checkpoints/model_checkpoint/model_checkpoint.ckpt\"\n",
    "ONNX_MODEL_PATH = ARTIFACTS_PATH / \"model.onnx\"\n",
    "ONNX_CHECKPOINT_MODEL_PATH = ARTIFACTS_PATH / \"checkpoint_model.onnx\""
   ]
  },
  {
   "cell_type": "code",
   "outputs": [],
   "source": [
    "def predict_model(model_path: str | pathlib.Path, input_sample: np.ndarray) -> np.ndarray:\n",
    "    ort_session = onnxruntime.InferenceSession(model_path)\n",
    "    input_name = ort_session.get_inputs()[0].name\n",
    "    ort_inputs = {input_name: input_sample}\n",
    "    return ort_session.run(None, ort_inputs)"
   ],
   "metadata": {
    "collapsed": false,
    "ExecuteTime": {
     "end_time": "2024-03-21T09:53:19.352183779Z",
     "start_time": "2024-03-21T09:53:19.351794464Z"
    }
   },
   "id": "246ece8fa800a0eb",
   "execution_count": 15
  },
  {
   "cell_type": "code",
   "outputs": [
    {
     "data": {
      "text/plain": "dtype('float32')"
     },
     "execution_count": 16,
     "metadata": {},
     "output_type": "execute_result"
    }
   ],
   "source": [
    "input_sample = np.random.rand(1, cfg.BASE_CHANNEL_SIZE, cfg.INPUT_SIZE, cfg.INPUT_SIZE).astype(np.float32)\n",
    "input_sample.dtype"
   ],
   "metadata": {
    "collapsed": false,
    "ExecuteTime": {
     "end_time": "2024-03-21T09:53:19.352463928Z",
     "start_time": "2024-03-21T09:53:19.351951961Z"
    }
   },
   "id": "6333dc0e94cd055d",
   "execution_count": 16
  },
  {
   "cell_type": "code",
   "outputs": [],
   "source": [
    "checkpoint_output = predict_model(model_path=ONNX_CHECKPOINT_MODEL_PATH, input_sample=input_sample)"
   ],
   "metadata": {
    "collapsed": false,
    "ExecuteTime": {
     "end_time": "2024-03-21T09:53:19.514598225Z",
     "start_time": "2024-03-21T09:53:19.420374907Z"
    }
   },
   "id": "cc2cfd3de55d6fff",
   "execution_count": 17
  },
  {
   "cell_type": "code",
   "outputs": [],
   "source": [
    "model_output = predict_model(model_path=ONNX_MODEL_PATH, input_sample=input_sample)"
   ],
   "metadata": {
    "collapsed": false,
    "ExecuteTime": {
     "end_time": "2024-03-21T09:53:19.575872734Z",
     "start_time": "2024-03-21T09:53:19.532860906Z"
    }
   },
   "id": "205c4e81236ebf86",
   "execution_count": 18
  },
  {
   "cell_type": "code",
   "outputs": [
    {
     "data": {
      "text/plain": "[array([[-1.2903147]], dtype=float32)]"
     },
     "execution_count": 19,
     "metadata": {},
     "output_type": "execute_result"
    }
   ],
   "source": [
    "checkpoint_output"
   ],
   "metadata": {
    "collapsed": false,
    "ExecuteTime": {
     "end_time": "2024-03-21T09:53:23.356072068Z",
     "start_time": "2024-03-21T09:53:23.352672299Z"
    }
   },
   "id": "a4110720c0201ed1",
   "execution_count": 19
  },
  {
   "cell_type": "code",
   "outputs": [
    {
     "data": {
      "text/plain": "[array([[-3.565104]], dtype=float32)]"
     },
     "execution_count": 20,
     "metadata": {},
     "output_type": "execute_result"
    }
   ],
   "source": [
    "model_output"
   ],
   "metadata": {
    "collapsed": false,
    "ExecuteTime": {
     "end_time": "2024-03-21T09:53:26.838860896Z",
     "start_time": "2024-03-21T09:53:26.836489760Z"
    }
   },
   "id": "f76d7bdcc9102a27",
   "execution_count": 20
  }
 ],
 "metadata": {
  "kernelspec": {
   "display_name": "Python 3",
   "language": "python",
   "name": "python3"
  },
  "language_info": {
   "codemirror_mode": {
    "name": "ipython",
    "version": 2
   },
   "file_extension": ".py",
   "mimetype": "text/x-python",
   "name": "python",
   "nbconvert_exporter": "python",
   "pygments_lexer": "ipython2",
   "version": "2.7.6"
  }
 },
 "nbformat": 4,
 "nbformat_minor": 5
}
