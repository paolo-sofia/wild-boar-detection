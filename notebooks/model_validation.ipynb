{
 "cells": [
  {
   "cell_type": "code",
   "execution_count": 2,
   "id": "596b306955f049bf",
   "metadata": {
    "collapsed": false,
    "ExecuteTime": {
     "end_time": "2024-03-22T11:50:21.305267823Z",
     "start_time": "2024-03-22T11:50:21.039050137Z"
    }
   },
   "outputs": [],
   "source": [
    "import pathlib\n",
    "from time import sleep\n",
    "from typing import Generator\n",
    "import pandas as pd\n",
    "import cv2\n",
    "import numpy as np\n",
    "import onnxruntime"
   ]
  },
  {
   "cell_type": "code",
   "outputs": [],
   "source": [
    "MODEL_PATH_ONNX: pathlib.Path = pathlib.Path(\n",
    "    \"../data/logs/mlruns/669180362677009476/28c74b00b3c24059a887a64895e6dedf/artifacts/model/model.onnx\"\n",
    ").resolve()\n",
    "\n",
    "MODEL_PATH: pathlib.Path = pathlib.Path(\"../data/logs/mlruns/669180362677009476/28c74b00b3c24059a887a64895e6dedf/artifacts/model/checkpoints/model_checkpoint/model_checkpoint.ckpt\").resolve()\n",
    "\n",
    "with pathlib.Path(\n",
    "        \"../data/logs/mlruns/669180362677009476/28c74b00b3c24059a887a64895e6dedf/metrics/threshold\"\n",
    ").resolve().open(\"r\") as f:\n",
    "    THRESHOLD = round(float(f.readline().split(\" \")[1]), 2)\n",
    "\n",
    "BASE_DATA_PATH = pathlib.Path(\"/home/paolo/git/wild-boar-detection\")\n",
    "\n",
    "dataframe: pd.DataFrame = pd.read_parquet(pathlib.Path(\"../data/valid.parquet\").resolve())\n",
    "\n",
    "ort_session: onnxruntime.InferenceSession = onnxruntime.InferenceSession(MODEL_PATH_ONNX)\n",
    "input_name: str = ort_session.get_inputs()[0].name"
   ],
   "metadata": {
    "collapsed": false,
    "ExecuteTime": {
     "end_time": "2024-03-22T11:50:21.409939525Z",
     "start_time": "2024-03-22T11:50:21.351158359Z"
    }
   },
   "id": "52e333ab05a64e1d",
   "execution_count": 3
  },
  {
   "cell_type": "code",
   "outputs": [
    {
     "data": {
      "text/plain": "                                                  path  target    weight\n0    data/bronze/images/wild_boar/contadino_mette_u...       1  1.299435\n1    data/bronze/images/wild_boar/contadino_mette_u...       1  1.299435\n2    data/bronze/images/wild_boar/contadino_mette_u...       1  1.299435\n3            data/bronze/images/wild_boar/image_41.jpg       1  1.299435\n4            data/bronze/images/wild_boar/image_14.jpg       1  1.299435\n..                                                 ...     ...       ...\n949  data/bronze/images/other_animals/cosa_ci_fate_...       0  0.812721\n950  data/bronze/images/other_animals/il_sonnellino...       0  0.812721\n951  data/bronze/images/other_animals/cosa_ci_fate_...       0  0.812721\n952  data/bronze/images/other_animals/cosa_ci_fate_...       0  0.812721\n953  data/bronze/images/other_animals/il_sonnellino...       0  0.812721\n\n[954 rows x 3 columns]",
      "text/html": "<div>\n<style scoped>\n    .dataframe tbody tr th:only-of-type {\n        vertical-align: middle;\n    }\n\n    .dataframe tbody tr th {\n        vertical-align: top;\n    }\n\n    .dataframe thead th {\n        text-align: right;\n    }\n</style>\n<table border=\"1\" class=\"dataframe\">\n  <thead>\n    <tr style=\"text-align: right;\">\n      <th></th>\n      <th>path</th>\n      <th>target</th>\n      <th>weight</th>\n    </tr>\n  </thead>\n  <tbody>\n    <tr>\n      <th>0</th>\n      <td>data/bronze/images/wild_boar/contadino_mette_u...</td>\n      <td>1</td>\n      <td>1.299435</td>\n    </tr>\n    <tr>\n      <th>1</th>\n      <td>data/bronze/images/wild_boar/contadino_mette_u...</td>\n      <td>1</td>\n      <td>1.299435</td>\n    </tr>\n    <tr>\n      <th>2</th>\n      <td>data/bronze/images/wild_boar/contadino_mette_u...</td>\n      <td>1</td>\n      <td>1.299435</td>\n    </tr>\n    <tr>\n      <th>3</th>\n      <td>data/bronze/images/wild_boar/image_41.jpg</td>\n      <td>1</td>\n      <td>1.299435</td>\n    </tr>\n    <tr>\n      <th>4</th>\n      <td>data/bronze/images/wild_boar/image_14.jpg</td>\n      <td>1</td>\n      <td>1.299435</td>\n    </tr>\n    <tr>\n      <th>...</th>\n      <td>...</td>\n      <td>...</td>\n      <td>...</td>\n    </tr>\n    <tr>\n      <th>949</th>\n      <td>data/bronze/images/other_animals/cosa_ci_fate_...</td>\n      <td>0</td>\n      <td>0.812721</td>\n    </tr>\n    <tr>\n      <th>950</th>\n      <td>data/bronze/images/other_animals/il_sonnellino...</td>\n      <td>0</td>\n      <td>0.812721</td>\n    </tr>\n    <tr>\n      <th>951</th>\n      <td>data/bronze/images/other_animals/cosa_ci_fate_...</td>\n      <td>0</td>\n      <td>0.812721</td>\n    </tr>\n    <tr>\n      <th>952</th>\n      <td>data/bronze/images/other_animals/cosa_ci_fate_...</td>\n      <td>0</td>\n      <td>0.812721</td>\n    </tr>\n    <tr>\n      <th>953</th>\n      <td>data/bronze/images/other_animals/il_sonnellino...</td>\n      <td>0</td>\n      <td>0.812721</td>\n    </tr>\n  </tbody>\n</table>\n<p>954 rows × 3 columns</p>\n</div>"
     },
     "execution_count": 7,
     "metadata": {},
     "output_type": "execute_result"
    }
   ],
   "source": [
    "dataframe"
   ],
   "metadata": {
    "collapsed": false,
    "ExecuteTime": {
     "end_time": "2024-03-22T11:54:09.363946967Z",
     "start_time": "2024-03-22T11:54:09.322588152Z"
    }
   },
   "id": "5df4c4475b6f131",
   "execution_count": 7
  },
  {
   "cell_type": "code",
   "outputs": [
    {
     "data": {
      "text/plain": "     y_true  y_pred    y_prob\n0         1    True  0.991586\n1         1    True  0.998911\n2         1    True  0.997739\n3         1    True  0.992407\n4         1    True  0.997874\n..      ...     ...       ...\n949       0   False  0.171134\n950       0   False  0.040340\n951       0   False  0.027583\n952       0   False  0.247993\n953       0   False  0.054724\n\n[954 rows x 3 columns]",
      "text/html": "<div>\n<style scoped>\n    .dataframe tbody tr th:only-of-type {\n        vertical-align: middle;\n    }\n\n    .dataframe tbody tr th {\n        vertical-align: top;\n    }\n\n    .dataframe thead th {\n        text-align: right;\n    }\n</style>\n<table border=\"1\" class=\"dataframe\">\n  <thead>\n    <tr style=\"text-align: right;\">\n      <th></th>\n      <th>y_true</th>\n      <th>y_pred</th>\n      <th>y_prob</th>\n    </tr>\n  </thead>\n  <tbody>\n    <tr>\n      <th>0</th>\n      <td>1</td>\n      <td>True</td>\n      <td>0.991586</td>\n    </tr>\n    <tr>\n      <th>1</th>\n      <td>1</td>\n      <td>True</td>\n      <td>0.998911</td>\n    </tr>\n    <tr>\n      <th>2</th>\n      <td>1</td>\n      <td>True</td>\n      <td>0.997739</td>\n    </tr>\n    <tr>\n      <th>3</th>\n      <td>1</td>\n      <td>True</td>\n      <td>0.992407</td>\n    </tr>\n    <tr>\n      <th>4</th>\n      <td>1</td>\n      <td>True</td>\n      <td>0.997874</td>\n    </tr>\n    <tr>\n      <th>...</th>\n      <td>...</td>\n      <td>...</td>\n      <td>...</td>\n    </tr>\n    <tr>\n      <th>949</th>\n      <td>0</td>\n      <td>False</td>\n      <td>0.171134</td>\n    </tr>\n    <tr>\n      <th>950</th>\n      <td>0</td>\n      <td>False</td>\n      <td>0.040340</td>\n    </tr>\n    <tr>\n      <th>951</th>\n      <td>0</td>\n      <td>False</td>\n      <td>0.027583</td>\n    </tr>\n    <tr>\n      <th>952</th>\n      <td>0</td>\n      <td>False</td>\n      <td>0.247993</td>\n    </tr>\n    <tr>\n      <th>953</th>\n      <td>0</td>\n      <td>False</td>\n      <td>0.054724</td>\n    </tr>\n  </tbody>\n</table>\n<p>954 rows × 3 columns</p>\n</div>"
     },
     "execution_count": 5,
     "metadata": {},
     "output_type": "execute_result"
    }
   ],
   "source": [
    "predictions: dict[str, list[bool | float]] = {\n",
    "    \"y_true\": [],\n",
    "    \"y_pred\": [],\n",
    "    \"y_prob\": [],\n",
    "}\n",
    "\n",
    "for _, row in dataframe.iterrows():\n",
    "    image = cv2.imread(str(BASE_DATA_PATH.joinpath(row.path)))\n",
    "\n",
    "    inputs: np.ndarray = cv2.resize(image, (256, 256))\n",
    "    inputs = inputs.transpose(2, 0, 1)\n",
    "    inputs = np.expand_dims(inputs, axis=0)\n",
    "    inputs = inputs.astype(np.float32)\n",
    "    inputs /= 255.0\n",
    "    \n",
    "    outputs: list[np.array] = ort_session.run(None, {input_name: inputs})\n",
    "    \n",
    "    y_prob: float = 1 / (1 + np.exp(-outputs[0].item()))\n",
    "    y_class: int = int(y_prob >= THRESHOLD)\n",
    "    \n",
    "    predictions[\"y_true\"].append(row.target)\n",
    "    predictions[\"y_pred\"].append(y_class)\n",
    "    predictions[\"y_prob\"].append(y_prob)\n",
    "    \n",
    "predictions: pd.DataFrame = pd.DataFrame(predictions)\n",
    "predictions"
   ],
   "metadata": {
    "collapsed": true,
    "ExecuteTime": {
     "end_time": "2024-03-22T11:50:54.933687023Z",
     "start_time": "2024-03-22T11:50:21.425182576Z"
    }
   },
   "id": "initial_id",
   "execution_count": 5
  },
  {
   "cell_type": "code",
   "outputs": [
    {
     "data": {
      "text/plain": "     y_true  y_pred    y_prob    weight\n0         1       1  0.991586  1.299435\n1         1       1  0.998911  1.299435\n2         1       1  0.997739  1.299435\n3         1       1  0.992407  1.299435\n4         1       1  0.997874  1.299435\n..      ...     ...       ...       ...\n949       0       0  0.171134  0.812721\n950       0       0  0.040340  0.812721\n951       0       0  0.027583  0.812721\n952       0       0  0.247993  0.812721\n953       0       0  0.054724  0.812721\n\n[954 rows x 4 columns]",
      "text/html": "<div>\n<style scoped>\n    .dataframe tbody tr th:only-of-type {\n        vertical-align: middle;\n    }\n\n    .dataframe tbody tr th {\n        vertical-align: top;\n    }\n\n    .dataframe thead th {\n        text-align: right;\n    }\n</style>\n<table border=\"1\" class=\"dataframe\">\n  <thead>\n    <tr style=\"text-align: right;\">\n      <th></th>\n      <th>y_true</th>\n      <th>y_pred</th>\n      <th>y_prob</th>\n      <th>weight</th>\n    </tr>\n  </thead>\n  <tbody>\n    <tr>\n      <th>0</th>\n      <td>1</td>\n      <td>1</td>\n      <td>0.991586</td>\n      <td>1.299435</td>\n    </tr>\n    <tr>\n      <th>1</th>\n      <td>1</td>\n      <td>1</td>\n      <td>0.998911</td>\n      <td>1.299435</td>\n    </tr>\n    <tr>\n      <th>2</th>\n      <td>1</td>\n      <td>1</td>\n      <td>0.997739</td>\n      <td>1.299435</td>\n    </tr>\n    <tr>\n      <th>3</th>\n      <td>1</td>\n      <td>1</td>\n      <td>0.992407</td>\n      <td>1.299435</td>\n    </tr>\n    <tr>\n      <th>4</th>\n      <td>1</td>\n      <td>1</td>\n      <td>0.997874</td>\n      <td>1.299435</td>\n    </tr>\n    <tr>\n      <th>...</th>\n      <td>...</td>\n      <td>...</td>\n      <td>...</td>\n      <td>...</td>\n    </tr>\n    <tr>\n      <th>949</th>\n      <td>0</td>\n      <td>0</td>\n      <td>0.171134</td>\n      <td>0.812721</td>\n    </tr>\n    <tr>\n      <th>950</th>\n      <td>0</td>\n      <td>0</td>\n      <td>0.040340</td>\n      <td>0.812721</td>\n    </tr>\n    <tr>\n      <th>951</th>\n      <td>0</td>\n      <td>0</td>\n      <td>0.027583</td>\n      <td>0.812721</td>\n    </tr>\n    <tr>\n      <th>952</th>\n      <td>0</td>\n      <td>0</td>\n      <td>0.247993</td>\n      <td>0.812721</td>\n    </tr>\n    <tr>\n      <th>953</th>\n      <td>0</td>\n      <td>0</td>\n      <td>0.054724</td>\n      <td>0.812721</td>\n    </tr>\n  </tbody>\n</table>\n<p>954 rows × 4 columns</p>\n</div>"
     },
     "execution_count": 9,
     "metadata": {},
     "output_type": "execute_result"
    }
   ],
   "source": [
    "predictions[\"y_pred\"] = predictions[\"y_pred\"].astype(int)\n",
    "predictions[\"weight\"] = predictions[\"y_true\"].apply(lambda x: 1.299435 if x == 1 else 0.812721) \n",
    "predictions"
   ],
   "metadata": {
    "collapsed": false,
    "ExecuteTime": {
     "end_time": "2024-03-22T11:55:04.431924297Z",
     "start_time": "2024-03-22T11:55:04.388971623Z"
    }
   },
   "id": "27ba93fd42511fc3",
   "execution_count": 9
  },
  {
   "cell_type": "code",
   "outputs": [
    {
     "data": {
      "text/plain": "(0.9394812680115274, 0.94869764295663)"
     },
     "execution_count": 11,
     "metadata": {},
     "output_type": "execute_result"
    }
   ],
   "source": [
    "from sklearn.metrics import f1_score\n",
    "\n",
    "unweighted_f1: float = f1_score(predictions[\"y_true\"], predictions[\"y_pred\"])\n",
    "weighted_f1: float = f1_score(predictions[\"y_true\"], predictions[\"y_pred\"], sample_weight=predictions[\"weight\"])\n",
    "unweighted_f1, weighted_f1"
   ],
   "metadata": {
    "collapsed": false,
    "ExecuteTime": {
     "end_time": "2024-03-22T11:55:24.115553823Z",
     "start_time": "2024-03-22T11:55:24.067991339Z"
    }
   },
   "id": "1636bcc000e9ea36",
   "execution_count": 11
  }
 ],
 "metadata": {
  "kernelspec": {
   "display_name": "Python 3",
   "language": "python",
   "name": "python3"
  },
  "language_info": {
   "codemirror_mode": {
    "name": "ipython",
    "version": 2
   },
   "file_extension": ".py",
   "mimetype": "text/x-python",
   "name": "python",
   "nbconvert_exporter": "python",
   "pygments_lexer": "ipython2",
   "version": "2.7.6"
  }
 },
 "nbformat": 4,
 "nbformat_minor": 5
}
