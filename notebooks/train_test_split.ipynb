{
 "cells": [
  {
   "cell_type": "code",
   "execution_count": 1,
   "id": "initial_id",
   "metadata": {
    "collapsed": true,
    "ExecuteTime": {
     "end_time": "2024-03-20T15:12:49.188013718Z",
     "start_time": "2024-03-20T15:12:48.665863341Z"
    }
   },
   "outputs": [
    {
     "data": {
      "text/plain": "PosixPath('/home/paolo/git/wild-boar-detection')"
     },
     "execution_count": 1,
     "metadata": {},
     "output_type": "execute_result"
    }
   ],
   "source": [
    "import os\n",
    "import pathlib\n",
    "import pandas as pd\n",
    "import numpy as np\n",
    "import re\n",
    "from sklearn.model_selection import StratifiedGroupKFold\n",
    "from sklearn.utils.class_weight import compute_class_weight\n",
    "seed = 42\n",
    "\n",
    "os.chdir(\"../\")\n",
    "\n",
    "pathlib.Path.cwd()"
   ]
  },
  {
   "cell_type": "markdown",
   "source": [
    "## Create train test split"
   ],
   "metadata": {
    "collapsed": false
   },
   "id": "eb04880a166a1818"
  },
  {
   "cell_type": "code",
   "outputs": [],
   "source": [
    "def generate_group(x: str) -> str:\n",
    "    group = re.sub(pattern=\"_(frame|image)_.*\", repl=\"\", string=x.split(\"/\")[-1][:-4])\n",
    "    return re.sub(pattern=\"_[0-9]+$\", repl=\"\", string=group)"
   ],
   "metadata": {
    "collapsed": false,
    "ExecuteTime": {
     "end_time": "2024-03-20T15:12:49.188332350Z",
     "start_time": "2024-03-20T15:12:49.187901236Z"
    }
   },
   "id": "526387a422a68ee0",
   "execution_count": 2
  },
  {
   "cell_type": "code",
   "outputs": [
    {
     "data": {
      "text/plain": "                                                   path  target\n0     data/bronze/images/wild_boar/ho_incontrato_un_...       1\n1     data/bronze/images/wild_boar/wild_boar_gang_ca...       1\n2     data/bronze/images/wild_boar/cinghiali_corrono...       1\n3     data/bronze/images/wild_boar/wild_boar_gang_ca...       1\n4     data/bronze/images/wild_boar/wild_boar_image_2...       1\n...                                                 ...     ...\n2789  data/bronze/images/other_animals/cosa_ci_fate_...       0\n2790  data/bronze/images/other_animals/il_sonnellino...       0\n2791  data/bronze/images/other_animals/otter_at_nigh...       0\n2792  data/bronze/images/other_animals/oliver_the_ot...       0\n2793  data/bronze/images/other_animals/la_lepre_ital...       0\n\n[2794 rows x 2 columns]",
      "text/html": "<div>\n<style scoped>\n    .dataframe tbody tr th:only-of-type {\n        vertical-align: middle;\n    }\n\n    .dataframe tbody tr th {\n        vertical-align: top;\n    }\n\n    .dataframe thead th {\n        text-align: right;\n    }\n</style>\n<table border=\"1\" class=\"dataframe\">\n  <thead>\n    <tr style=\"text-align: right;\">\n      <th></th>\n      <th>path</th>\n      <th>target</th>\n    </tr>\n  </thead>\n  <tbody>\n    <tr>\n      <th>0</th>\n      <td>data/bronze/images/wild_boar/ho_incontrato_un_...</td>\n      <td>1</td>\n    </tr>\n    <tr>\n      <th>1</th>\n      <td>data/bronze/images/wild_boar/wild_boar_gang_ca...</td>\n      <td>1</td>\n    </tr>\n    <tr>\n      <th>2</th>\n      <td>data/bronze/images/wild_boar/cinghiali_corrono...</td>\n      <td>1</td>\n    </tr>\n    <tr>\n      <th>3</th>\n      <td>data/bronze/images/wild_boar/wild_boar_gang_ca...</td>\n      <td>1</td>\n    </tr>\n    <tr>\n      <th>4</th>\n      <td>data/bronze/images/wild_boar/wild_boar_image_2...</td>\n      <td>1</td>\n    </tr>\n    <tr>\n      <th>...</th>\n      <td>...</td>\n      <td>...</td>\n    </tr>\n    <tr>\n      <th>2789</th>\n      <td>data/bronze/images/other_animals/cosa_ci_fate_...</td>\n      <td>0</td>\n    </tr>\n    <tr>\n      <th>2790</th>\n      <td>data/bronze/images/other_animals/il_sonnellino...</td>\n      <td>0</td>\n    </tr>\n    <tr>\n      <th>2791</th>\n      <td>data/bronze/images/other_animals/otter_at_nigh...</td>\n      <td>0</td>\n    </tr>\n    <tr>\n      <th>2792</th>\n      <td>data/bronze/images/other_animals/oliver_the_ot...</td>\n      <td>0</td>\n    </tr>\n    <tr>\n      <th>2793</th>\n      <td>data/bronze/images/other_animals/la_lepre_ital...</td>\n      <td>0</td>\n    </tr>\n  </tbody>\n</table>\n<p>2794 rows × 2 columns</p>\n</div>"
     },
     "execution_count": 3,
     "metadata": {},
     "output_type": "execute_result"
    }
   ],
   "source": [
    "other_animals = [str(x) for x in pathlib.Path(\"data/bronze/images/other_animals\").rglob(\"*\")]\n",
    "wild_boar = [str(x) for x in pathlib.Path(\"data/bronze/images/wild_boar\").rglob(\"*\")]\n",
    "\n",
    "\n",
    "data: pd.DataFrame = pd.concat([\n",
    "    pd.DataFrame(data={\"path\": wild_boar, \"target\": [1]*len(wild_boar)}),\n",
    "    pd.DataFrame(data={\"path\": other_animals, \"target\": [0]*len(other_animals)})\n",
    "]).reset_index(drop=True)\n",
    "data"
   ],
   "metadata": {
    "collapsed": false,
    "ExecuteTime": {
     "end_time": "2024-03-20T15:12:49.188999510Z",
     "start_time": "2024-03-20T15:12:49.188015111Z"
    }
   },
   "id": "6eca82cde25a6a21",
   "execution_count": 3
  },
  {
   "cell_type": "code",
   "outputs": [
    {
     "data": {
      "text/plain": "0       ho_incontrato_un_branco_di_cinghiali_di_notte_mp4\n1                wild_boar_gang_caught_on_camera_trap_mp4\n2       cinghiali_corrono_nel_bosco_come_fantasmi_nell...\n3                wild_boar_gang_caught_on_camera_trap_mp4\n4                                               wild_boar\n                              ...                        \n2789    cosa_ci_fate_qui_alle_2_di_notte_____caprioli_...\n2790           il_sonnellino_del_cervo__o9rzkiuzy84__webm\n2791                    otter_at_night__buvfr_nh33k__webm\n2792    oliver_the_otter_walking_by_at_night__qviddl8g...\n2793    la_lepre_italica_nel_parco_nazionale_del_cilen...\nName: path, Length: 2794, dtype: object"
     },
     "execution_count": 4,
     "metadata": {},
     "output_type": "execute_result"
    }
   ],
   "source": [
    "groups = data[\"path\"].apply(lambda x: generate_group(x))\n",
    "groups"
   ],
   "metadata": {
    "collapsed": false,
    "ExecuteTime": {
     "end_time": "2024-03-20T15:12:49.189291591Z",
     "start_time": "2024-03-20T15:12:49.188083700Z"
    }
   },
   "id": "691ae6733cb81cef",
   "execution_count": 4
  },
  {
   "cell_type": "code",
   "outputs": [
    {
     "name": "stdout",
     "output_type": "stream",
     "text": [
      "6 0.658554044380816\n"
     ]
    }
   ],
   "source": [
    "for i in range(2, 200):\n",
    "    sgkf = StratifiedGroupKFold(n_splits=i, shuffle=True, random_state=seed)\n",
    "    \n",
    "    train_index, valid_index = next(sgkf.split(X=data.path, y=data.target, groups=groups))\n",
    "    \n",
    "    train_size = train_index.shape[0] / data.shape[0]\n",
    "    \n",
    "    if 0.65 <= train_size <= 0.8:\n",
    "        print(i, train_size)\n",
    "        break\n",
    "        "
   ],
   "metadata": {
    "collapsed": false,
    "ExecuteTime": {
     "end_time": "2024-03-20T15:12:49.262318469Z",
     "start_time": "2024-03-20T15:12:49.188129888Z"
    }
   },
   "id": "d698476213e0a866",
   "execution_count": 5
  },
  {
   "cell_type": "code",
   "outputs": [
    {
     "data": {
      "text/plain": "RangeIndex(start=0, stop=2794, step=1)"
     },
     "execution_count": 6,
     "metadata": {},
     "output_type": "execute_result"
    }
   ],
   "source": [
    "data.index"
   ],
   "metadata": {
    "collapsed": false,
    "ExecuteTime": {
     "end_time": "2024-03-20T15:12:49.262635768Z",
     "start_time": "2024-03-20T15:12:49.238355676Z"
    }
   },
   "id": "c01685187e702aa8",
   "execution_count": 6
  },
  {
   "cell_type": "code",
   "outputs": [],
   "source": [
    "train_data = data.loc[train_index] #.to_parquet(pathlib.Path(\"../data/train.parquet\"), index=False)\n",
    "valid_data = data.loc[valid_index] #.to_parquet(pathlib.Path(\"../data/valid.parquet\"), index=False)"
   ],
   "metadata": {
    "collapsed": false,
    "ExecuteTime": {
     "end_time": "2024-03-20T15:12:49.262921618Z",
     "start_time": "2024-03-20T15:12:49.242593400Z"
    }
   },
   "id": "680d666acf0c582b",
   "execution_count": 7
  },
  {
   "cell_type": "code",
   "outputs": [
    {
     "data": {
      "text/plain": "array([0.81272085, 1.29943503])"
     },
     "execution_count": 8,
     "metadata": {},
     "output_type": "execute_result"
    }
   ],
   "source": [
    "class_weight = compute_class_weight(class_weight=\"balanced\", classes=np.unique(train_data.target), y=train_data.target)\n",
    "class_weight"
   ],
   "metadata": {
    "collapsed": false,
    "ExecuteTime": {
     "end_time": "2024-03-20T15:12:49.295242484Z",
     "start_time": "2024-03-20T15:12:49.246669077Z"
    }
   },
   "id": "8c256fefff5d46e7",
   "execution_count": 8
  },
  {
   "cell_type": "code",
   "outputs": [],
   "source": [
    "train_data[\"weight\"] = class_weight[train_data.target]\n",
    "valid_data[\"weight\"] = class_weight[valid_data.target]"
   ],
   "metadata": {
    "collapsed": false,
    "ExecuteTime": {
     "end_time": "2024-03-20T15:12:49.295480464Z",
     "start_time": "2024-03-20T15:12:49.291890344Z"
    }
   },
   "id": "6cb1ab6be8bad46e",
   "execution_count": 9
  },
  {
   "cell_type": "code",
   "outputs": [],
   "source": [
    "train_data.to_parquet(pathlib.Path(\"data/train.parquet\"), index=False)\n",
    "valid_data.to_parquet(pathlib.Path(\"data/valid.parquet\"), index=False)"
   ],
   "metadata": {
    "collapsed": false,
    "ExecuteTime": {
     "end_time": "2024-03-20T15:12:49.295665613Z",
     "start_time": "2024-03-20T15:12:49.291991074Z"
    }
   },
   "id": "5cc91493a38096de",
   "execution_count": 10
  }
 ],
 "metadata": {
  "kernelspec": {
   "display_name": "Python 3",
   "language": "python",
   "name": "python3"
  },
  "language_info": {
   "codemirror_mode": {
    "name": "ipython",
    "version": 2
   },
   "file_extension": ".py",
   "mimetype": "text/x-python",
   "name": "python",
   "nbconvert_exporter": "python",
   "pygments_lexer": "ipython2",
   "version": "2.7.6"
  }
 },
 "nbformat": 4,
 "nbformat_minor": 5
}
